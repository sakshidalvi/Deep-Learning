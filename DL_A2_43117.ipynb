{
  "nbformat": 4,
  "nbformat_minor": 0,
  "metadata": {
    "colab": {
      "provenance": [],
      "collapsed_sections": []
    },
    "kernelspec": {
      "name": "python3",
      "display_name": "Python 3"
    },
    "language_info": {
      "name": "python"
    }
  },
  "cells": [
    {
      "cell_type": "markdown",
      "source": [
        "## Assignment 2\n",
        "\n",
        " 1. Name    :  Sakshi Dalvi\n",
        " 2. class   : BE 9 (IT)\n",
        " 3. Roll No.: 43117\n",
        " \n",
        " ### Problem Statement : \n",
        " Implementing Feedforward neural networks with Keras and TensorFlow"
      ],
      "metadata": {
        "id": "tPIKfVcI7cXn"
      }
    },
    {
      "cell_type": "code",
      "execution_count": null,
      "metadata": {
        "id": "hcpVc-38-OFf"
      },
      "outputs": [],
      "source": [
        "#installations\n",
        "from sklearn.preprocessing import LabelBinarizer\n",
        "from sklearn.metrics import classification_report\n",
        "from tensorflow.keras.models import Sequential\n",
        "from tensorflow.keras.layers import Dense\n",
        "from tensorflow.keras.optimizers import SGD\n",
        "from tensorflow.keras.datasets import mnist\n",
        "from tensorflow.keras import backend as K\n",
        "import matplotlib.pyplot as plt\n",
        "import numpy as np"
      ]
    },
    {
      "cell_type": "code",
      "source": [
        "#grabbing the mnist dataset\n",
        "((X_train, Y_train), (X_test, Y_test)) = mnist.load_data()\n",
        "X_train = X_train.reshape((X_train.shape[0], 28 * 28 * 1))\n",
        "X_test = X_test.reshape((X_test.shape[0], 28 * 28 * 1))\n",
        "X_train = X_train.astype(\"float32\") / 255.0\n",
        "X_test = X_test.astype(\"float32\") / 255.0"
      ],
      "metadata": {
        "id": "LUZLOYG8-Yz2",
        "colab": {
          "base_uri": "https://localhost:8080/"
        },
        "outputId": "c76c0214-abdd-4e63-e302-78cd95196a57"
      },
      "execution_count": null,
      "outputs": [
        {
          "output_type": "stream",
          "name": "stdout",
          "text": [
            "Downloading data from https://storage.googleapis.com/tensorflow/tf-keras-datasets/mnist.npz\n",
            "11490434/11490434 [==============================] - 0s 0us/step\n"
          ]
        }
      ]
    },
    {
      "cell_type": "code",
      "source": [
        "lb = LabelBinarizer()\n",
        "Y_train = lb.fit_transform(Y_train)\n",
        "Y_test = lb.transform(Y_test)"
      ],
      "metadata": {
        "id": "rGDSwm8e-i44"
      },
      "execution_count": null,
      "outputs": []
    },
    {
      "cell_type": "code",
      "source": [
        "#building the model\n",
        "model = Sequential()\n",
        "model.add(Dense(128, input_shape=(784,), activation=\"sigmoid\"))\n",
        "model.add(Dense(64, activation=\"sigmoid\"))\n",
        "model.add(Dense(10, activation=\"softmax\"))"
      ],
      "metadata": {
        "id": "lxBbB-yA-s_g"
      },
      "execution_count": null,
      "outputs": []
    },
    {
      "cell_type": "code",
      "source": [
        "sgd = SGD(0.01)\n",
        "epochs=10\n",
        "model.compile(loss=\"categorical_crossentropy\", optimizer=sgd,metrics=[\"accuracy\"])\n",
        "H = model.fit(X_train, Y_train, validation_data=(X_test, Y_test),epochs=epochs, batch_size=128)"
      ],
      "metadata": {
        "colab": {
          "base_uri": "https://localhost:8080/"
        },
        "id": "xKc03Mvz-wrz",
        "outputId": "4eeaa7fa-68a1-4761-cb12-761d6a76ffc3"
      },
      "execution_count": null,
      "outputs": [
        {
          "output_type": "stream",
          "name": "stdout",
          "text": [
            "Epoch 1/10\n",
            "469/469 [==============================] - 4s 7ms/step - loss: 2.3041 - accuracy: 0.1377 - val_loss: 2.2630 - val_accuracy: 0.1518\n",
            "Epoch 2/10\n",
            "469/469 [==============================] - 2s 5ms/step - loss: 2.2411 - accuracy: 0.2876 - val_loss: 2.2132 - val_accuracy: 0.3873\n",
            "Epoch 3/10\n",
            "469/469 [==============================] - 3s 6ms/step - loss: 2.1847 - accuracy: 0.4635 - val_loss: 2.1457 - val_accuracy: 0.5135\n",
            "Epoch 4/10\n",
            "469/469 [==============================] - 3s 6ms/step - loss: 2.1056 - accuracy: 0.5393 - val_loss: 2.0488 - val_accuracy: 0.5949\n",
            "Epoch 5/10\n",
            "469/469 [==============================] - 4s 9ms/step - loss: 1.9914 - accuracy: 0.5857 - val_loss: 1.9114 - val_accuracy: 0.6182\n",
            "Epoch 6/10\n",
            "469/469 [==============================] - 4s 9ms/step - loss: 1.8379 - accuracy: 0.6043 - val_loss: 1.7389 - val_accuracy: 0.6290\n",
            "Epoch 7/10\n",
            "469/469 [==============================] - 5s 10ms/step - loss: 1.6614 - accuracy: 0.6352 - val_loss: 1.5590 - val_accuracy: 0.6580\n",
            "Epoch 8/10\n",
            "469/469 [==============================] - 4s 8ms/step - loss: 1.4896 - accuracy: 0.6665 - val_loss: 1.3960 - val_accuracy: 0.7045\n",
            "Epoch 9/10\n",
            "469/469 [==============================] - 5s 10ms/step - loss: 1.3384 - accuracy: 0.6992 - val_loss: 1.2550 - val_accuracy: 0.7308\n",
            "Epoch 10/10\n",
            "469/469 [==============================] - 4s 8ms/step - loss: 1.2085 - accuracy: 0.7242 - val_loss: 1.1351 - val_accuracy: 0.7421\n"
          ]
        }
      ]
    },
    {
      "cell_type": "code",
      "source": [
        "#making the predictions\n",
        "predictions = model.predict(X_test, batch_size=128)\n",
        "print(classification_report(Y_test.argmax(axis=1),predictions.argmax(axis=1),target_names=[str(x) for x in lb.classes_]))"
      ],
      "metadata": {
        "colab": {
          "base_uri": "https://localhost:8080/"
        },
        "id": "Mhq0Upb3-8O3",
        "outputId": "01d636c9-2fad-40cc-8a61-dd3d3d3061f3"
      },
      "execution_count": null,
      "outputs": [
        {
          "output_type": "stream",
          "name": "stdout",
          "text": [
            "79/79 [==============================] - 0s 2ms/step\n",
            "              precision    recall  f1-score   support\n",
            "\n",
            "           0       0.78      0.97      0.87       980\n",
            "           1       0.77      0.99      0.87      1135\n",
            "           2       0.79      0.78      0.78      1032\n",
            "           3       0.65      0.82      0.73      1010\n",
            "           4       0.72      0.72      0.72       982\n",
            "           5       0.85      0.36      0.50       892\n",
            "           6       0.82      0.85      0.83       958\n",
            "           7       0.68      0.86      0.76      1028\n",
            "           8       0.81      0.40      0.53       974\n",
            "           9       0.66      0.60      0.63      1009\n",
            "\n",
            "    accuracy                           0.74     10000\n",
            "   macro avg       0.75      0.73      0.72     10000\n",
            "weighted avg       0.75      0.74      0.73     10000\n",
            "\n"
          ]
        }
      ]
    },
    {
      "cell_type": "code",
      "source": [
        "#plotting the training loss and accuracy\n",
        "plt.style.use(\"ggplot\")\n",
        "plt.figure()\n",
        "plt.plot(np.arange(0, epochs), H.history[\"loss\"], label=\"train_loss\")\n",
        "plt.plot(np.arange(0, epochs), H.history[\"val_loss\"], label=\"val_loss\")\n",
        "plt.plot(np.arange(0, epochs), H.history[\"accuracy\"], label=\"train_acc\")\n",
        "plt.plot(np.arange(0, epochs), H.history[\"val_accuracy\"], label=\"val_acc\")\n",
        "plt.title(\"Training Loss and Accuracy\")\n",
        "plt.xlabel(\"Epoch #\")\n",
        "plt.ylabel(\"Loss/Accuracy\")\n",
        "plt.legend()"
      ],
      "metadata": {
        "colab": {
          "base_uri": "https://localhost:8080/",
          "height": 288
        },
        "id": "DN7oqCII_Crw",
        "outputId": "7f1620ef-868f-46db-d02c-3927c2f35842"
      },
      "execution_count": null,
      "outputs": [
        {
          "output_type": "execute_result",
          "data": {
            "text/plain": [
              "<matplotlib.legend.Legend at 0x7f9d997f60d0>"
            ]
          },
          "metadata": {},
          "execution_count": 7
        },
        {
          "output_type": "display_data",
          "data": {
            "text/plain": [
              "<Figure size 432x288 with 1 Axes>"
            ],
            "image/png": "[encoded data removed]"
          },
          "metadata": {}
        }
      ]
    },
    {
      "cell_type": "code",
      "source": [],
      "metadata": {
        "id": "dsgxIAZF9na1"
      },
      "execution_count": null,
      "outputs": []
    }
  ]
}